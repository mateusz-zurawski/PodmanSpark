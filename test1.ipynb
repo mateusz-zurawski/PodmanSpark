{
 "cells": [
  {
   "cell_type": "code",
   "execution_count": 1,
   "id": "4342054c-d180-4bc9-a8ab-4060b9794733",
   "metadata": {},
   "outputs": [
    {
     "name": "stdout",
     "output_type": "stream",
     "text": [
      "+--------------------+--------------------+--------------------+-------------------+----------------------+\n",
      "|                 App|   Translated_Review|           Sentiment| Sentiment_Polarity|Sentiment_Subjectivity|\n",
      "+--------------------+--------------------+--------------------+-------------------+----------------------+\n",
      "|10 Best Foods for...|\"I like eat delic...| also \"\"Best Befo...|           Positive|                   1.0|\n",
      "|10 Best Foods for...|This help eating ...|            Positive|               0.25|   0.28846153846153844|\n",
      "|10 Best Foods for...|                 nan|                 nan|                nan|                   nan|\n",
      "|10 Best Foods for...|Works great espec...|            Positive|                0.4|                 0.875|\n",
      "|10 Best Foods for...|        Best idea us|            Positive|                1.0|                   0.3|\n",
      "|10 Best Foods for...|            Best way|            Positive|                1.0|                   0.3|\n",
      "|10 Best Foods for...|             Amazing|            Positive| 0.6000000000000001|                   0.9|\n",
      "|10 Best Foods for...|                 nan|                 nan|                nan|                   nan|\n",
      "|10 Best Foods for...|Looking forward app,|             Neutral|                0.0|                   0.0|\n",
      "|10 Best Foods for...|It helpful site !...|             Neutral|                0.0|                   0.0|\n",
      "|10 Best Foods for...|           good you.|            Positive|                0.7|    0.6000000000000001|\n",
      "|10 Best Foods for...|Useful informatio...|            Positive|                0.2|                   0.1|\n",
      "|10 Best Foods for...|Thank you! Great ...|            Positive|               0.75|                 0.875|\n",
      "|10 Best Foods for...|Greatest ever Com...|            Positive|          0.9921875|    0.8666666666666667|\n",
      "|10 Best Foods for...|Good health.........|            Positive| 0.5499999999999999|    0.5111111111111112|\n",
      "|10 Best Foods for...|                 nan|                 nan|                nan|                   nan|\n",
      "|10 Best Foods for...|Health It's impor...|            Positive|               0.45|                   1.0|\n",
      "|10 Best Foods for...|Mrs sunita bhati ...|            Positive|                0.6|    0.6666666666666666|\n",
      "|10 Best Foods for...|Very Useful in di...|            Positive|0.29500000000000004|                   0.1|\n",
      "|10 Best Foods for...|  One greatest apps.|            Positive|                1.0|                   1.0|\n",
      "+--------------------+--------------------+--------------------+-------------------+----------------------+\n",
      "only showing top 20 rows\n",
      "\n",
      "Number of rows: 64295\n"
     ]
    }
   ],
   "source": [
    "from pyspark.sql import SparkSession\n",
    "\n",
    "# Spark session & context\n",
    "spark = SparkSession.builder.master(\"local\").getOrCreate()\n",
    "sc = spark.sparkContext\n",
    "\n",
    "# Reading CSV file from /sparkdata folder\n",
    "csv_path = \"/sparkdata/googleplaystore_user_reviews.csv\"  # This will read any CSV file in the /sparkdata folder\n",
    "df = spark.read.csv(csv_path, header=True, inferSchema=True)  # Assuming the CSV has a header\n",
    "\n",
    "# Show the DataFrame\n",
    "df.show()\n",
    "\n",
    "# If you want to perform any action on DataFrame\n",
    "# For instance, to get the count of rows:\n",
    "print(\"Number of rows:\", df.count())\n"
   ]
  },
  {
   "cell_type": "code",
   "execution_count": null,
   "id": "345ab61e-f230-4d6a-b0c2-95a87149ed33",
   "metadata": {},
   "outputs": [],
   "source": []
  }
 ],
 "metadata": {
  "kernelspec": {
   "display_name": "Python 3 (ipykernel)",
   "language": "python",
   "name": "python3"
  },
  "language_info": {
   "codemirror_mode": {
    "name": "ipython",
    "version": 3
   },
   "file_extension": ".py",
   "mimetype": "text/x-python",
   "name": "python",
   "nbconvert_exporter": "python",
   "pygments_lexer": "ipython3",
   "version": "3.11.4"
  }
 },
 "nbformat": 4,
 "nbformat_minor": 5
}
